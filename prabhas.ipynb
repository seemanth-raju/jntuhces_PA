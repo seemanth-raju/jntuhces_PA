{
  "nbformat": 4,
  "nbformat_minor": 0,
  "metadata": {
    "colab": {
      "provenance": [],
      "gpuType": "T4",
      "authorship_tag": "ABX9TyPSbSAV85ZYVM3W6iKLAIUF",
      "include_colab_link": true
    },
    "kernelspec": {
      "name": "python3",
      "display_name": "Python 3"
    },
    "language_info": {
      "name": "python"
    },
    "accelerator": "GPU"
  },
  "cells": [
    {
      "cell_type": "markdown",
      "metadata": {
        "id": "view-in-github",
        "colab_type": "text"
      },
      "source": [
        "<a href=\"https://colab.research.google.com/github/seemanth-raju/jntuhces_PA/blob/main/prabhas.ipynb\" target=\"_parent\"><img src=\"https://colab.research.google.com/assets/colab-badge.svg\" alt=\"Open In Colab\"/></a>"
      ]
    },
    {
      "cell_type": "code",
      "source": [
        "pip install transformers"
      ],
      "metadata": {
        "id": "58E2qgG2dR6f"
      },
      "execution_count": null,
      "outputs": []
    },
    {
      "cell_type": "code",
      "source": [
        "pip install pandas\n"
      ],
      "metadata": {
        "id": "OUL9d4kJVYo0"
      },
      "execution_count": 16,
      "outputs": []
    },
    {
      "cell_type": "code",
      "source": [
        "import pandas as pd"
      ],
      "metadata": {
        "id": "wL8oZU9AViHG"
      },
      "execution_count": 18,
      "outputs": []
    },
    {
      "cell_type": "code",
      "source": [
        "from transformers import pipeline\n",
        "from transformers import AutoTokenizer, T5ForConditionalGeneration\n",
        "\n",
        "pipe = pipeline(\"table-question-answering\", model=\"google/tapas-large-finetuned-wtq\")"
      ],
      "metadata": {
        "id": "l9LNJisTUaQl"
      },
      "execution_count": null,
      "outputs": []
    },
    {
      "cell_type": "code",
      "source": [
        "def events(query):\n",
        "    tqa = pipeline(task=\"table-question-answering\", model=\"google/tapas-base-finetuned-wtq\")\n",
        "\n",
        "\n",
        "    table = pd.read_csv(\"events2.csv\")\n",
        "    table = table.astype(str)\n",
        "    return(tqa(table=table, query=query)[\"answer\"])"
      ],
      "metadata": {
        "id": "vAHWs4l4UwWD"
      },
      "execution_count": 13,
      "outputs": []
    },
    {
      "cell_type": "code",
      "source": [],
      "metadata": {
        "id": "8RjB7mqtU0Ln"
      },
      "execution_count": null,
      "outputs": []
    }
  ]
}